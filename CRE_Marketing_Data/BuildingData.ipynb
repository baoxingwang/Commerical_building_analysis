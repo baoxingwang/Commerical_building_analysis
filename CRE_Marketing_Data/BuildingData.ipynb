{
 "cells": [
  {
   "cell_type": "markdown",
   "metadata": {},
   "source": [
    "# Hcad data of Commercial Real Estate Building"
   ]
  },
  {
   "cell_type": "code",
   "execution_count": 1,
   "metadata": {},
   "outputs": [],
   "source": [
    "# Imports\n",
    "import time\n",
    "import sys\n",
    "from zipfile import ZipFile\n",
    "import pandas as pd\n",
    "import pandas.io.sql as pdsql\n",
    "import glob, os\n",
    "import numpy as np\n",
    "# Datetime for new column\n",
    "import datetime\n",
    "# Imports for mySQL\n",
    "from sqlalchemy import create_engine, event, DateTime\n",
    "from db_setup import mysql_user, mysql_password, db_name\n",
    "import mysql.connector"
   ]
  },
  {
   "cell_type": "code",
   "execution_count": 2,
   "metadata": {},
   "outputs": [],
   "source": [
    "mydir = os.path.abspath('./HotelOccupancyTaxData')"
   ]
  },
  {
   "cell_type": "code",
   "execution_count": 3,
   "metadata": {},
   "outputs": [
    {
     "data": {
      "text/plain": [
       "'C:\\\\DataAnalyticsBootCamp\\\\WEEK_23 - Project 3\\\\Project_3_Potential_Marketing\\\\CRE_Marketing_Data\\\\HotelOccupancyTaxData'"
      ]
     },
     "execution_count": 3,
     "metadata": {},
     "output_type": "execute_result"
    }
   ],
   "source": [
    "mydir"
   ]
  },
  {
   "cell_type": "markdown",
   "metadata": {},
   "source": [
    "## Adding Headers to Txt files from hcad.org"
   ]
  },
  {
   "cell_type": "code",
   "execution_count": 4,
   "metadata": {},
   "outputs": [],
   "source": [
    "land = ['ACCOUNT',\n",
    "            'LINE_NUMBER',\n",
    "            'LAND_USE_CODE',\n",
    "            'LAND_USE_DSCR',\n",
    "            'SITE_CD',\n",
    "            'SITE_CD_DSCR',\n",
    "            'SITE_ADJ',\n",
    "            'UNIT_TYPE',\n",
    "            'UNITS',\n",
    "            'SIZE_FACTOR',\n",
    "            'SITE_FACT',\n",
    "            'APPR_OVERRIDE_FACT',\n",
    "            'APPR_OVERRIDE_REAS',\n",
    "            'TOT_ADJ',\n",
    "            'UNIT_PRICE',\n",
    "            'ADJ_UNIT_PRICE',\n",
    "            'VALUE',\n",
    "            'OVERRIDE_VALUE']\n",
    "\n",
    "real_account = ['ACCOUNT',\n",
    "                'TAX_YEAR',\n",
    "                'MAILTO',\n",
    "                'MAIL_ADDR_1',\n",
    "                'MAIL_ADDR_2',\n",
    "                'MAIL_CITY',\n",
    "                'MAIL_STATE',\n",
    "                'MAIL_ZIP',\n",
    "                'MAIL_COUNTRY',\n",
    "                'UNDELIVERABLE',\n",
    "                'STR_PFX',\n",
    "                'STR_NUM',\n",
    "                'STR_NUM_SFX',\n",
    "                'STR_NAME',\n",
    "                'STR_SFX',\n",
    "                'STR_SFX_DIR',\n",
    "                'STR_UNIT',\n",
    "                'SITE_ADDR_1',\n",
    "                'SITE_ADDR_2',\n",
    "                'SITE_ADDR_3',\n",
    "                'STATE_CLASS',\n",
    "                'SCHOOL_DIST',\n",
    "                'MAP_FACET',\n",
    "                'KEY_MAP',\n",
    "                'NEIGHBORHOOD_CODE',\n",
    "                'NEIGHBORHOOD_GROUP',\n",
    "                'MARKET_AREA_1',\n",
    "                'MARKET_AREA_1_DSCR',\n",
    "                'MARKET_AREA_2',\n",
    "                'MARKET_AREA_2_DSCR',\n",
    "                'ECON_AREA',\n",
    "                'ECON_BLD_CLASS',\n",
    "                'CENTER_CODE',\n",
    "                'YR_IMPR',\n",
    "                'YR_ANNEXED',\n",
    "                'SPLT_DT',\n",
    "                'DSC_CD',\n",
    "                'NXT_BUILDING',\n",
    "                'TOTAL_BUILDING_ARE',\n",
    "                'TOTAL_LAND_AREA',\n",
    "                'ACREAGE',\n",
    "                'CAP_ACCOUNT',\n",
    "                'SHARED_CAD_CODE',\n",
    "                'LAND_VALUE',\n",
    "                'IMPROVEMENT_VALUE',\n",
    "                'EXTRA_FEATURES_VAL',\n",
    "                'AG_VALUE',\n",
    "                'ASSESSED_VALUE',\n",
    "                'TOTAL_APPRAISED_VA',\n",
    "                'TOTAL_MARKET_VALUE',\n",
    "                'PRIOR_LND_VALUE',\n",
    "                'PRIOR_IMPR_VALUE',\n",
    "                'PRIOR_X_FEATURES_V',\n",
    "                'PRIOR_AG_VALUE',\n",
    "                'PRIOR_TOTAL_APPRAI',\n",
    "                'PRIOR_TOTAL_MARKET',\n",
    "                'NEW_CONSTRUCTION_V',\n",
    "                'TOTAL_RCN_VALUE',\n",
    "                'VALUE_STATUS',\n",
    "                'NOTICED',\n",
    "                'NOTICE_DATE',\n",
    "                'PROTESTED',\n",
    "                'CERTIFIED_DATE',\n",
    "                'LAST_INSPECTED_DAT',\n",
    "                'LAST_INSPECTED_BY',\n",
    "                'NEW_OWNER_DATE',\n",
    "                'LEGAL_DSCR_1',\n",
    "                'LEGAL_DSCR_2',\n",
    "                'LEGAL_DSCR_3',\n",
    "                'LEGAL_DSCR_4',\n",
    "                'JURS']"
   ]
  },
  {
   "cell_type": "markdown",
   "metadata": {},
   "source": [
    "#### Unzipping files within specified directory"
   ]
  },
  {
   "cell_type": "code",
   "execution_count": null,
   "metadata": {},
   "outputs": [],
   "source": [
    "# extract all files\n",
    "i = 0\n",
    "for file in glob.glob(mydir + '/*.zip'):\n",
    "    i += 1\n",
    "    zip = ZipFile(file, 'r')\n",
    "    print(f'Extracting file {i}')\n",
    "    zip.extractall(mydir)\n",
    "    zip.close()\n",
    "    print('Done!')\n",
    "    print(f\"File {i}, extracted: {file}\\n\")\n",
    "    time.sleep(1)\n",
    "#     os.remove(file)"
   ]
  },
  {
   "cell_type": "markdown",
   "metadata": {},
   "source": [
    "## Specified Text file to Dataframe"
   ]
  },
  {
   "cell_type": "code",
   "execution_count": 6,
   "metadata": {},
   "outputs": [
    {
     "name": "stdout",
     "output_type": "stream",
     "text": [
      "File not being used: C:\\DataAnalyticsBootCamp\\WEEK_23 - Project 3\\Project_3_Potential_Marketing\\CRE_Marketing_Data\\HotelOccupancyTaxData\\building_other.txt\n",
      "File not being used: C:\\DataAnalyticsBootCamp\\WEEK_23 - Project 3\\Project_3_Potential_Marketing\\CRE_Marketing_Data\\HotelOccupancyTaxData\\building_res.txt\n",
      "File not being used: C:\\DataAnalyticsBootCamp\\WEEK_23 - Project 3\\Project_3_Potential_Marketing\\CRE_Marketing_Data\\HotelOccupancyTaxData\\CPA_SIFT_Description.txt\n",
      "File not being used: C:\\DataAnalyticsBootCamp\\WEEK_23 - Project 3\\Project_3_Potential_Marketing\\CRE_Marketing_Data\\HotelOccupancyTaxData\\exterior.txt\n",
      "File not being used: C:\\DataAnalyticsBootCamp\\WEEK_23 - Project 3\\Project_3_Potential_Marketing\\CRE_Marketing_Data\\HotelOccupancyTaxData\\extra_features.txt\n",
      "File not being used: C:\\DataAnalyticsBootCamp\\WEEK_23 - Project 3\\Project_3_Potential_Marketing\\CRE_Marketing_Data\\HotelOccupancyTaxData\\extra_features_detail1.txt\n",
      "File not being used: C:\\DataAnalyticsBootCamp\\WEEK_23 - Project 3\\Project_3_Potential_Marketing\\CRE_Marketing_Data\\HotelOccupancyTaxData\\extra_features_detail2.txt\n",
      "File not being used: C:\\DataAnalyticsBootCamp\\WEEK_23 - Project 3\\Project_3_Potential_Marketing\\CRE_Marketing_Data\\HotelOccupancyTaxData\\fixtures.txt\n",
      "Added the C:\\DataAnalyticsBootCamp\\WEEK_23 - Project 3\\Project_3_Potential_Marketing\\CRE_Marketing_Data\\HotelOccupancyTaxData\\land.txt into land text file\n",
      "deleted the file C:\\DataAnalyticsBootCamp\\WEEK_23 - Project 3\\Project_3_Potential_Marketing\\CRE_Marketing_Data\\HotelOccupancyTaxData\\land.txt\n"
     ]
    },
    {
     "name": "stderr",
     "output_type": "stream",
     "text": [
      "Skipping line 50896: '\t' expected after '\"'\n"
     ]
    },
    {
     "name": "stdout",
     "output_type": "stream",
     "text": [
      "Added the C:\\DataAnalyticsBootCamp\\WEEK_23 - Project 3\\Project_3_Potential_Marketing\\CRE_Marketing_Data\\HotelOccupancyTaxData\\real_acct.txt into real_acct text file\n",
      "deleted the file C:\\DataAnalyticsBootCamp\\WEEK_23 - Project 3\\Project_3_Potential_Marketing\\CRE_Marketing_Data\\HotelOccupancyTaxData\\real_acct.txt\n",
      "File not being used: C:\\DataAnalyticsBootCamp\\WEEK_23 - Project 3\\Project_3_Potential_Marketing\\CRE_Marketing_Data\\HotelOccupancyTaxData\\structural_elem1.txt\n",
      "File not being used: C:\\DataAnalyticsBootCamp\\WEEK_23 - Project 3\\Project_3_Potential_Marketing\\CRE_Marketing_Data\\HotelOccupancyTaxData\\structural_elem2.txt\n"
     ]
    }
   ],
   "source": [
    "for file in glob.glob(mydir + '/*.txt'):\n",
    "    if \"land\" in file:\n",
    "        df_land = pd.read_table(file,\n",
    "                                   sep='\\t',\n",
    "                                    quotechar='\"', \n",
    "                                    error_bad_lines=False,\n",
    "#                                   widths=[11, 50, 40, 20, 2, 5, 3, 2, 10, 1, 8, 8, 2, 10, 8, 8, 2, 1, 3, 8, 6],\n",
    "                                   header=None,\n",
    "                                   names=land, index_col=False, engine= 'python') \n",
    "        df_land = df_land.append(df_land)\n",
    "#         os.remove(file)\n",
    "        print('Added the ' + file + ' into land text file')\n",
    "        print('deleted the file ' + str(file)) \n",
    "    elif \"real_acct\" in file:\n",
    "        df_real_acct = pd.read_table(file,\n",
    "                                   sep='\\t',\n",
    "                                    quotechar='\"', \n",
    "                                    error_bad_lines=False,\n",
    "#                                   widths=[11, 50, 40, 20, 2, 5, 3, 2, 10, 1, 8, 8, 2, 10, 8, 8, 2, 1, 3, 8, 6],\n",
    "                                   header=None,\n",
    "                                   names=real_account, index_col=False, engine= 'python') \n",
    "        df_real_acct = df_real_acct.append(df_real_acct)\n",
    "#         os.remove(file)\n",
    "        print('Added the ' + file + ' into real_acct text file')\n",
    "        print('deleted the file ' + str(file)) \n",
    "    else:\n",
    "#         os.remove(file)\n",
    "        print('File not being used: ' + str(file))"
   ]
  },
  {
   "cell_type": "markdown",
   "metadata": {},
   "source": [
    "## Text file Land from Real_Building_land.zip\n",
    "* and use, acreage, and land units.\n",
    "* file contains the id's with the site cd of:\n",
    "    * 4353  -- Office Bldgs. Low-Rise (1 to 4 Stories)\n",
    "    * 4354"
   ]
  },
  {
   "cell_type": "code",
   "execution_count": 123,
   "metadata": {},
   "outputs": [
    {
     "data": {
      "text/html": [
       "<div>\n",
       "<style scoped>\n",
       "    .dataframe tbody tr th:only-of-type {\n",
       "        vertical-align: middle;\n",
       "    }\n",
       "\n",
       "    .dataframe tbody tr th {\n",
       "        vertical-align: top;\n",
       "    }\n",
       "\n",
       "    .dataframe thead th {\n",
       "        text-align: right;\n",
       "    }\n",
       "</style>\n",
       "<table border=\"1\" class=\"dataframe\">\n",
       "  <thead>\n",
       "    <tr style=\"text-align: right;\">\n",
       "      <th></th>\n",
       "      <th>ACCOUNT</th>\n",
       "      <th>LINE_NUMBER</th>\n",
       "      <th>LAND_USE_CODE</th>\n",
       "      <th>LAND_USE_DSCR</th>\n",
       "      <th>SITE_CD</th>\n",
       "      <th>SITE_CD_DSCR</th>\n",
       "      <th>SITE_ADJ</th>\n",
       "      <th>UNIT_TYPE</th>\n",
       "      <th>UNITS</th>\n",
       "      <th>SIZE_FACTOR</th>\n",
       "      <th>SITE_FACT</th>\n",
       "      <th>APPR_OVERRIDE_FACT</th>\n",
       "      <th>APPR_OVERRIDE_REAS</th>\n",
       "      <th>TOT_ADJ</th>\n",
       "      <th>UNIT_PRICE</th>\n",
       "      <th>ADJ_UNIT_PRICE</th>\n",
       "      <th>VALUE</th>\n",
       "      <th>OVERRIDE_VALUE</th>\n",
       "    </tr>\n",
       "  </thead>\n",
       "  <tbody>\n",
       "    <tr>\n",
       "      <th>0</th>\n",
       "      <td>122320000005</td>\n",
       "      <td>1</td>\n",
       "      <td>8001</td>\n",
       "      <td>Land Neighborhood Section 1</td>\n",
       "      <td>4600</td>\n",
       "      <td></td>\n",
       "      <td>1.0</td>\n",
       "      <td>SF</td>\n",
       "      <td>3058.0</td>\n",
       "      <td>1.0</td>\n",
       "      <td>1.0</td>\n",
       "      <td>1.0</td>\n",
       "      <td></td>\n",
       "      <td>1.0</td>\n",
       "      <td>2.00</td>\n",
       "      <td>2.0000</td>\n",
       "      <td>6116</td>\n",
       "      <td></td>\n",
       "    </tr>\n",
       "    <tr>\n",
       "      <th>1</th>\n",
       "      <td>122420300001</td>\n",
       "      <td>1</td>\n",
       "      <td>8001</td>\n",
       "      <td>Land Neighborhood Section 1</td>\n",
       "      <td>4600</td>\n",
       "      <td></td>\n",
       "      <td>1.0</td>\n",
       "      <td>SF</td>\n",
       "      <td>47916.0</td>\n",
       "      <td>1.0</td>\n",
       "      <td>1.0</td>\n",
       "      <td>1.0</td>\n",
       "      <td></td>\n",
       "      <td>1.0</td>\n",
       "      <td>2.00</td>\n",
       "      <td>2.0000</td>\n",
       "      <td>95832</td>\n",
       "      <td></td>\n",
       "    </tr>\n",
       "    <tr>\n",
       "      <th>2</th>\n",
       "      <td>122420300004</td>\n",
       "      <td>1</td>\n",
       "      <td>8001</td>\n",
       "      <td>Land Neighborhood Section 1</td>\n",
       "      <td>4600</td>\n",
       "      <td></td>\n",
       "      <td>1.0</td>\n",
       "      <td>SF</td>\n",
       "      <td>6000.0</td>\n",
       "      <td>1.0</td>\n",
       "      <td>1.0</td>\n",
       "      <td>1.0</td>\n",
       "      <td></td>\n",
       "      <td>1.0</td>\n",
       "      <td>2.00</td>\n",
       "      <td>2.0000</td>\n",
       "      <td>12000</td>\n",
       "      <td></td>\n",
       "    </tr>\n",
       "    <tr>\n",
       "      <th>3</th>\n",
       "      <td>271800000001</td>\n",
       "      <td>1</td>\n",
       "      <td>8001</td>\n",
       "      <td>Land Neighborhood Section 1</td>\n",
       "      <td>4209</td>\n",
       "      <td></td>\n",
       "      <td>1.0</td>\n",
       "      <td>SF</td>\n",
       "      <td>10000.0</td>\n",
       "      <td>1.0</td>\n",
       "      <td>1.0</td>\n",
       "      <td>1.0</td>\n",
       "      <td>Corner or Alley</td>\n",
       "      <td>1.0</td>\n",
       "      <td>20.00</td>\n",
       "      <td>20.0000</td>\n",
       "      <td>200000</td>\n",
       "      <td></td>\n",
       "    </tr>\n",
       "    <tr>\n",
       "      <th>4</th>\n",
       "      <td>162660000030</td>\n",
       "      <td>1</td>\n",
       "      <td>8001</td>\n",
       "      <td>Land Neighborhood Section 1</td>\n",
       "      <td>4600</td>\n",
       "      <td></td>\n",
       "      <td>1.0</td>\n",
       "      <td>SF</td>\n",
       "      <td>104816.0</td>\n",
       "      <td>1.0</td>\n",
       "      <td>1.0</td>\n",
       "      <td>1.0</td>\n",
       "      <td></td>\n",
       "      <td>1.0</td>\n",
       "      <td>2.50</td>\n",
       "      <td>2.5000</td>\n",
       "      <td>262040</td>\n",
       "      <td></td>\n",
       "    </tr>\n",
       "  </tbody>\n",
       "</table>\n",
       "</div>"
      ],
      "text/plain": [
       "        ACCOUNT  LINE_NUMBER  LAND_USE_CODE                LAND_USE_DSCR  \\\n",
       "0  122320000005            1           8001  Land Neighborhood Section 1   \n",
       "1  122420300001            1           8001  Land Neighborhood Section 1   \n",
       "2  122420300004            1           8001  Land Neighborhood Section 1   \n",
       "3  271800000001            1           8001  Land Neighborhood Section 1   \n",
       "4  162660000030            1           8001  Land Neighborhood Section 1   \n",
       "\n",
       "  SITE_CD SITE_CD_DSCR  SITE_ADJ UNIT_TYPE     UNITS  SIZE_FACTOR  SITE_FACT  \\\n",
       "0    4600                    1.0        SF    3058.0          1.0        1.0   \n",
       "1    4600                    1.0        SF   47916.0          1.0        1.0   \n",
       "2    4600                    1.0        SF    6000.0          1.0        1.0   \n",
       "3    4209                    1.0        SF   10000.0          1.0        1.0   \n",
       "4    4600                    1.0        SF  104816.0          1.0        1.0   \n",
       "\n",
       "   APPR_OVERRIDE_FACT APPR_OVERRIDE_REAS  TOT_ADJ UNIT_PRICE ADJ_UNIT_PRICE  \\\n",
       "0                 1.0                         1.0       2.00         2.0000   \n",
       "1                 1.0                         1.0       2.00         2.0000   \n",
       "2                 1.0                         1.0       2.00         2.0000   \n",
       "3                 1.0    Corner or Alley      1.0      20.00        20.0000   \n",
       "4                 1.0                         1.0       2.50         2.5000   \n",
       "\n",
       "    VALUE OVERRIDE_VALUE  \n",
       "0    6116                 \n",
       "1   95832                 \n",
       "2   12000                 \n",
       "3  200000                 \n",
       "4  262040                 "
      ]
     },
     "execution_count": 123,
     "metadata": {},
     "output_type": "execute_result"
    }
   ],
   "source": [
    "df_land.head()"
   ]
  },
  {
   "cell_type": "markdown",
   "metadata": {},
   "source": [
    "#### Converting columns to int"
   ]
  },
  {
   "cell_type": "code",
   "execution_count": 124,
   "metadata": {},
   "outputs": [],
   "source": [
    "# SITE_ADJ,UNITS,SIZE_FACTOR,SITE_FACT,TOT_ADJ\n",
    "\n",
    "df_land['SITE_ADJ'] = df_land['SITE_ADJ'].fillna(0)\n",
    "df_land['UNITS'] = df_land['UNITS'].fillna(0)\n",
    "df_land['SIZE_FACTOR'] = df_land['SIZE_FACTOR'].fillna(0)\n",
    "df_land['SITE_FACT'] = df_land['SITE_FACT'].fillna(0)\n",
    "df_land['TOT_ADJ'] = df_land['TOT_ADJ'].fillna(0)\n",
    "\n",
    "df_land['SITE_ADJ'] = df_land['SITE_ADJ'].astype(np.int64)\n",
    "df_land['UNITS'] = df_land['UNITS'].astype(np.int64)\n",
    "df_land['SIZE_FACTOR'] = df_land['SIZE_FACTOR'].astype(np.int64)\n",
    "df_land['SITE_FACT'] = df_land['SITE_FACT'].astype(np.int64)\n",
    "df_land['TOT_ADJ'] = df_land['TOT_ADJ'].astype(np.int64)"
   ]
  },
  {
   "cell_type": "markdown",
   "metadata": {},
   "source": [
    "#### Count columns"
   ]
  },
  {
   "cell_type": "code",
   "execution_count": 125,
   "metadata": {},
   "outputs": [
    {
     "data": {
      "text/plain": [
       "ACCOUNT               4581628\n",
       "LINE_NUMBER           4581628\n",
       "LAND_USE_CODE         4581628\n",
       "LAND_USE_DSCR         4581628\n",
       "SITE_CD               4581628\n",
       "SITE_CD_DSCR          4581628\n",
       "SITE_ADJ              4581628\n",
       "UNIT_TYPE             4581628\n",
       "UNITS                 4581628\n",
       "SIZE_FACTOR           4581628\n",
       "SITE_FACT             4581628\n",
       "APPR_OVERRIDE_FACT    4581628\n",
       "APPR_OVERRIDE_REAS    4581628\n",
       "TOT_ADJ               4581628\n",
       "UNIT_PRICE            4581628\n",
       "ADJ_UNIT_PRICE        4581628\n",
       "VALUE                 4581628\n",
       "OVERRIDE_VALUE        4581628\n",
       "dtype: int64"
      ]
     },
     "execution_count": 125,
     "metadata": {},
     "output_type": "execute_result"
    }
   ],
   "source": [
    "df_land.count()"
   ]
  },
  {
   "cell_type": "markdown",
   "metadata": {},
   "source": [
    "#### Filter data to specified building code for 4353 and 4354"
   ]
  },
  {
   "cell_type": "code",
   "execution_count": 126,
   "metadata": {},
   "outputs": [
    {
     "data": {
      "text/html": [
       "<div>\n",
       "<style scoped>\n",
       "    .dataframe tbody tr th:only-of-type {\n",
       "        vertical-align: middle;\n",
       "    }\n",
       "\n",
       "    .dataframe tbody tr th {\n",
       "        vertical-align: top;\n",
       "    }\n",
       "\n",
       "    .dataframe thead th {\n",
       "        text-align: right;\n",
       "    }\n",
       "</style>\n",
       "<table border=\"1\" class=\"dataframe\">\n",
       "  <thead>\n",
       "    <tr style=\"text-align: right;\">\n",
       "      <th></th>\n",
       "      <th>ACCOUNT</th>\n",
       "      <th>LINE_NUMBER</th>\n",
       "      <th>LAND_USE_CODE</th>\n",
       "      <th>LAND_USE_DSCR</th>\n",
       "      <th>SITE_CD</th>\n",
       "      <th>SITE_CD_DSCR</th>\n",
       "      <th>SITE_ADJ</th>\n",
       "      <th>UNIT_TYPE</th>\n",
       "      <th>UNITS</th>\n",
       "      <th>SIZE_FACTOR</th>\n",
       "      <th>SITE_FACT</th>\n",
       "      <th>APPR_OVERRIDE_FACT</th>\n",
       "      <th>APPR_OVERRIDE_REAS</th>\n",
       "      <th>TOT_ADJ</th>\n",
       "      <th>UNIT_PRICE</th>\n",
       "      <th>ADJ_UNIT_PRICE</th>\n",
       "      <th>VALUE</th>\n",
       "      <th>OVERRIDE_VALUE</th>\n",
       "    </tr>\n",
       "  </thead>\n",
       "  <tbody>\n",
       "    <tr>\n",
       "      <th>128</th>\n",
       "      <td>10320000005</td>\n",
       "      <td>1</td>\n",
       "      <td>8001</td>\n",
       "      <td>Land Neighborhood Section 1</td>\n",
       "      <td>4353</td>\n",
       "      <td></td>\n",
       "      <td>1</td>\n",
       "      <td>SF</td>\n",
       "      <td>10000</td>\n",
       "      <td>1</td>\n",
       "      <td>1</td>\n",
       "      <td>1.0</td>\n",
       "      <td></td>\n",
       "      <td>1</td>\n",
       "      <td>150.00</td>\n",
       "      <td>150.0000</td>\n",
       "      <td>1500000</td>\n",
       "      <td></td>\n",
       "    </tr>\n",
       "    <tr>\n",
       "      <th>2104</th>\n",
       "      <td>71940000009</td>\n",
       "      <td>1</td>\n",
       "      <td>8001</td>\n",
       "      <td>Land Neighborhood Section 1</td>\n",
       "      <td>4353</td>\n",
       "      <td></td>\n",
       "      <td>1</td>\n",
       "      <td>SF</td>\n",
       "      <td>25000</td>\n",
       "      <td>1</td>\n",
       "      <td>1</td>\n",
       "      <td>1.0</td>\n",
       "      <td>Corner or Alley</td>\n",
       "      <td>1</td>\n",
       "      <td>75.00</td>\n",
       "      <td>75.0000</td>\n",
       "      <td>1875000</td>\n",
       "      <td></td>\n",
       "    </tr>\n",
       "    <tr>\n",
       "      <th>2107</th>\n",
       "      <td>201360000033</td>\n",
       "      <td>1</td>\n",
       "      <td>8001</td>\n",
       "      <td>Land Neighborhood Section 1</td>\n",
       "      <td>4353</td>\n",
       "      <td></td>\n",
       "      <td>1</td>\n",
       "      <td>SF</td>\n",
       "      <td>7500</td>\n",
       "      <td>1</td>\n",
       "      <td>1</td>\n",
       "      <td>1.0</td>\n",
       "      <td></td>\n",
       "      <td>1</td>\n",
       "      <td>65.00</td>\n",
       "      <td>65.0000</td>\n",
       "      <td>487500</td>\n",
       "      <td></td>\n",
       "    </tr>\n",
       "    <tr>\n",
       "      <th>2109</th>\n",
       "      <td>122430420001</td>\n",
       "      <td>1</td>\n",
       "      <td>8001</td>\n",
       "      <td>Land Neighborhood Section 1</td>\n",
       "      <td>4353</td>\n",
       "      <td></td>\n",
       "      <td>1</td>\n",
       "      <td>SF</td>\n",
       "      <td>107833</td>\n",
       "      <td>1</td>\n",
       "      <td>1</td>\n",
       "      <td>1.0</td>\n",
       "      <td></td>\n",
       "      <td>1</td>\n",
       "      <td>2.00</td>\n",
       "      <td>2.0000</td>\n",
       "      <td>215666</td>\n",
       "      <td></td>\n",
       "    </tr>\n",
       "    <tr>\n",
       "      <th>2112</th>\n",
       "      <td>10290000009</td>\n",
       "      <td>1</td>\n",
       "      <td>8001</td>\n",
       "      <td>Land Neighborhood Section 1</td>\n",
       "      <td>4353</td>\n",
       "      <td></td>\n",
       "      <td>1</td>\n",
       "      <td>SF</td>\n",
       "      <td>9998</td>\n",
       "      <td>1</td>\n",
       "      <td>1</td>\n",
       "      <td>1.0</td>\n",
       "      <td></td>\n",
       "      <td>1</td>\n",
       "      <td>150.00</td>\n",
       "      <td>150.0000</td>\n",
       "      <td>1499700</td>\n",
       "      <td></td>\n",
       "    </tr>\n",
       "  </tbody>\n",
       "</table>\n",
       "</div>"
      ],
      "text/plain": [
       "           ACCOUNT  LINE_NUMBER  LAND_USE_CODE                LAND_USE_DSCR  \\\n",
       "128    10320000005            1           8001  Land Neighborhood Section 1   \n",
       "2104   71940000009            1           8001  Land Neighborhood Section 1   \n",
       "2107  201360000033            1           8001  Land Neighborhood Section 1   \n",
       "2109  122430420001            1           8001  Land Neighborhood Section 1   \n",
       "2112   10290000009            1           8001  Land Neighborhood Section 1   \n",
       "\n",
       "     SITE_CD SITE_CD_DSCR  SITE_ADJ UNIT_TYPE   UNITS  SIZE_FACTOR  SITE_FACT  \\\n",
       "128     4353                      1        SF   10000            1          1   \n",
       "2104    4353                      1        SF   25000            1          1   \n",
       "2107    4353                      1        SF    7500            1          1   \n",
       "2109    4353                      1        SF  107833            1          1   \n",
       "2112    4353                      1        SF    9998            1          1   \n",
       "\n",
       "      APPR_OVERRIDE_FACT APPR_OVERRIDE_REAS  TOT_ADJ UNIT_PRICE  \\\n",
       "128                  1.0                           1     150.00   \n",
       "2104                 1.0    Corner or Alley        1      75.00   \n",
       "2107                 1.0                           1      65.00   \n",
       "2109                 1.0                           1       2.00   \n",
       "2112                 1.0                           1     150.00   \n",
       "\n",
       "     ADJ_UNIT_PRICE    VALUE OVERRIDE_VALUE  \n",
       "128        150.0000  1500000                 \n",
       "2104        75.0000  1875000                 \n",
       "2107        65.0000   487500                 \n",
       "2109         2.0000   215666                 \n",
       "2112       150.0000  1499700                 "
      ]
     },
     "execution_count": 126,
     "metadata": {},
     "output_type": "execute_result"
    }
   ],
   "source": [
    "df_land = df_land[(df_land['SITE_CD'] == '4353') | (df_land['SITE_CD'] == '4354')]\n",
    "df_land.head()"
   ]
  },
  {
   "cell_type": "markdown",
   "metadata": {},
   "source": [
    "#### Counting filtered data"
   ]
  },
  {
   "cell_type": "code",
   "execution_count": 127,
   "metadata": {},
   "outputs": [
    {
     "data": {
      "text/plain": [
       "ACCOUNT               7438\n",
       "LINE_NUMBER           7438\n",
       "LAND_USE_CODE         7438\n",
       "LAND_USE_DSCR         7438\n",
       "SITE_CD               7438\n",
       "SITE_CD_DSCR          7438\n",
       "SITE_ADJ              7438\n",
       "UNIT_TYPE             7438\n",
       "UNITS                 7438\n",
       "SIZE_FACTOR           7438\n",
       "SITE_FACT             7438\n",
       "APPR_OVERRIDE_FACT    7438\n",
       "APPR_OVERRIDE_REAS    7438\n",
       "TOT_ADJ               7438\n",
       "UNIT_PRICE            7438\n",
       "ADJ_UNIT_PRICE        7438\n",
       "VALUE                 7438\n",
       "OVERRIDE_VALUE        7438\n",
       "dtype: int64"
      ]
     },
     "execution_count": 127,
     "metadata": {},
     "output_type": "execute_result"
    }
   ],
   "source": [
    "df_land.count()"
   ]
  },
  {
   "cell_type": "markdown",
   "metadata": {},
   "source": [
    "#### Saving filtered land data"
   ]
  },
  {
   "cell_type": "code",
   "execution_count": 96,
   "metadata": {},
   "outputs": [],
   "source": [
    "path = os.path.abspath('HotelOccupancyTaxData/landData.csv')\n",
    "df_land.to_csv(path, index = False)"
   ]
  },
  {
   "cell_type": "code",
   "execution_count": 107,
   "metadata": {},
   "outputs": [
    {
     "data": {
      "text/plain": [
       "ACCOUNT               9878\n",
       "USE_CODE              9878\n",
       "BLD_NUM               9878\n",
       "IMPROV_TYPE           9878\n",
       "BUILDING_STYLE_COD    9878\n",
       "CLASS_STRUCTURE       9878\n",
       "CLASS_STRUC_DESCRI    9878\n",
       "NOTICED_DEPR_VALUE    9878\n",
       "DEPRECIATION_VALUE    9878\n",
       "MS_REPLACEMENT_COS    9878\n",
       "CAMA_REPLACEMENT_C    9878\n",
       "ACCRUED_DEPR_PCT      9878\n",
       "QUALITY               9878\n",
       "QUALITY_DESCRIPTIO    9878\n",
       "DATE_ERECTED          9878\n",
       "EFFECTIVE_DATE        9878\n",
       "YR_REMODEL            9878\n",
       "YR_ROLL               9878\n",
       "APPRAISED_BY          9878\n",
       "APPRAISED_DATE        9878\n",
       "NOTE                  9878\n",
       "IMPR_SQ_FT            9878\n",
       "ACTUAL_AREA           9878\n",
       "HEAT_AREA             9878\n",
       "GROSS_AREA            9878\n",
       "EFFECTIVE_AREA        9878\n",
       "BASE_AREA             9878\n",
       "PERIMETER             9878\n",
       "PERCENT_COMPLETE      9878\n",
       "CATEGORY              9878\n",
       "CATEGORY_DSCR         9878\n",
       "PROPERTY_NAME         9878\n",
       "UNITS                 9878\n",
       "NET_RENT_AREA         9878\n",
       "LEASE_RATE            9878\n",
       "OCCUPANCY_RATE        9878\n",
       "TOTAL_INCOME          9878\n",
       "dtype: int64"
      ]
     },
     "execution_count": 107,
     "metadata": {},
     "output_type": "execute_result"
    }
   ],
   "source": [
    "df_other_biz = df_other_biz[df_other_biz['ACCOUNT'].astype(int).isin(df_land['ACCOUNT'].astype(int))]\n",
    "df_other_biz.count()"
   ]
  },
  {
   "cell_type": "code",
   "execution_count": 108,
   "metadata": {},
   "outputs": [],
   "source": [
    "path = os.path.abspath('HotelOccupancyTaxData/filteredOtherBuildingData.csv')\n",
    "df_other_biz.to_csv(path, index = False)"
   ]
  },
  {
   "cell_type": "markdown",
   "metadata": {},
   "source": [
    "## Real Account from Real Property Real_acct_owner.zip"
   ]
  },
  {
   "cell_type": "code",
   "execution_count": 128,
   "metadata": {},
   "outputs": [
    {
     "data": {
      "text/html": [
       "<div>\n",
       "<style scoped>\n",
       "    .dataframe tbody tr th:only-of-type {\n",
       "        vertical-align: middle;\n",
       "    }\n",
       "\n",
       "    .dataframe tbody tr th {\n",
       "        vertical-align: top;\n",
       "    }\n",
       "\n",
       "    .dataframe thead th {\n",
       "        text-align: right;\n",
       "    }\n",
       "</style>\n",
       "<table border=\"1\" class=\"dataframe\">\n",
       "  <thead>\n",
       "    <tr style=\"text-align: right;\">\n",
       "      <th></th>\n",
       "      <th>ACCOUNT</th>\n",
       "      <th>TAX_YEAR</th>\n",
       "      <th>MAILTO</th>\n",
       "      <th>MAIL_ADDR_1</th>\n",
       "      <th>MAIL_ADDR_2</th>\n",
       "      <th>MAIL_CITY</th>\n",
       "      <th>MAIL_STATE</th>\n",
       "      <th>MAIL_ZIP</th>\n",
       "      <th>MAIL_COUNTRY</th>\n",
       "      <th>UNDELIVERABLE</th>\n",
       "      <th>...</th>\n",
       "      <th>PROTESTED</th>\n",
       "      <th>CERTIFIED_DATE</th>\n",
       "      <th>LAST_INSPECTED_DAT</th>\n",
       "      <th>LAST_INSPECTED_BY</th>\n",
       "      <th>NEW_OWNER_DATE</th>\n",
       "      <th>LEGAL_DSCR_1</th>\n",
       "      <th>LEGAL_DSCR_2</th>\n",
       "      <th>LEGAL_DSCR_3</th>\n",
       "      <th>LEGAL_DSCR_4</th>\n",
       "      <th>JURS</th>\n",
       "    </tr>\n",
       "  </thead>\n",
       "  <tbody>\n",
       "    <tr>\n",
       "      <th>0</th>\n",
       "      <td>10010000013</td>\n",
       "      <td>2019</td>\n",
       "      <td>CITY OF HOUSTON</td>\n",
       "      <td>PO BOX 1562</td>\n",
       "      <td></td>\n",
       "      <td>HOUSTON</td>\n",
       "      <td>TX</td>\n",
       "      <td>77251-1562</td>\n",
       "      <td></td>\n",
       "      <td>N</td>\n",
       "      <td>...</td>\n",
       "      <td>N</td>\n",
       "      <td>2019-08-02 00:00:00.000</td>\n",
       "      <td>2016-01-01 00:00:00.000</td>\n",
       "      <td>01391</td>\n",
       "      <td>1988-01-02 00:00:00.000</td>\n",
       "      <td>ALL BLK 1</td>\n",
       "      <td>SSBB</td>\n",
       "      <td>NaN</td>\n",
       "      <td>NaN</td>\n",
       "      <td>001 040 041 042 043 044 048 061 265 268 576</td>\n",
       "    </tr>\n",
       "    <tr>\n",
       "      <th>1</th>\n",
       "      <td>10020000001</td>\n",
       "      <td>2019</td>\n",
       "      <td>CURRENT OWNER</td>\n",
       "      <td>1717 SAINT JAMES PLACE STE 112</td>\n",
       "      <td></td>\n",
       "      <td>HOUSTON</td>\n",
       "      <td>TX</td>\n",
       "      <td>77056-3412</td>\n",
       "      <td></td>\n",
       "      <td>N</td>\n",
       "      <td>...</td>\n",
       "      <td>Y</td>\n",
       "      <td>2019-07-03 00:00:00.000</td>\n",
       "      <td>2017-11-17 14:58:10.597</td>\n",
       "      <td>00984</td>\n",
       "      <td>2012-10-31 00:00:00.000</td>\n",
       "      <td>TR 15 BLK 2</td>\n",
       "      <td>SSBB</td>\n",
       "      <td>NaN</td>\n",
       "      <td>NaN</td>\n",
       "      <td>001 040 041 042 043 044 048 061 265 268 576</td>\n",
       "    </tr>\n",
       "  </tbody>\n",
       "</table>\n",
       "<p>2 rows × 71 columns</p>\n",
       "</div>"
      ],
      "text/plain": [
       "       ACCOUNT  TAX_YEAR           MAILTO                     MAIL_ADDR_1  \\\n",
       "0  10010000013      2019  CITY OF HOUSTON                     PO BOX 1562   \n",
       "1  10020000001      2019    CURRENT OWNER  1717 SAINT JAMES PLACE STE 112   \n",
       "\n",
       "  MAIL_ADDR_2 MAIL_CITY MAIL_STATE    MAIL_ZIP MAIL_COUNTRY UNDELIVERABLE  \\\n",
       "0               HOUSTON         TX  77251-1562                          N   \n",
       "1               HOUSTON         TX  77056-3412                          N   \n",
       "\n",
       "   ... PROTESTED           CERTIFIED_DATE       LAST_INSPECTED_DAT  \\\n",
       "0  ...         N  2019-08-02 00:00:00.000  2016-01-01 00:00:00.000   \n",
       "1  ...         Y  2019-07-03 00:00:00.000  2017-11-17 14:58:10.597   \n",
       "\n",
       "  LAST_INSPECTED_BY           NEW_OWNER_DATE LEGAL_DSCR_1 LEGAL_DSCR_2  \\\n",
       "0             01391  1988-01-02 00:00:00.000    ALL BLK 1         SSBB   \n",
       "1             00984  2012-10-31 00:00:00.000  TR 15 BLK 2         SSBB   \n",
       "\n",
       "  LEGAL_DSCR_3 LEGAL_DSCR_4                                         JURS  \n",
       "0          NaN          NaN  001 040 041 042 043 044 048 061 265 268 576  \n",
       "1          NaN          NaN  001 040 041 042 043 044 048 061 265 268 576  \n",
       "\n",
       "[2 rows x 71 columns]"
      ]
     },
     "execution_count": 128,
     "metadata": {},
     "output_type": "execute_result"
    }
   ],
   "source": [
    "df_real_acct.head(2)"
   ]
  },
  {
   "cell_type": "markdown",
   "metadata": {},
   "source": [
    "#### Count of Real Acct DF"
   ]
  },
  {
   "cell_type": "code",
   "execution_count": 129,
   "metadata": {},
   "outputs": [
    {
     "data": {
      "text/plain": [
       "ACCOUNT         2950724\n",
       "TAX_YEAR        2950724\n",
       "MAILTO          2950724\n",
       "MAIL_ADDR_1     2950724\n",
       "MAIL_ADDR_2     2950724\n",
       "                 ...   \n",
       "LEGAL_DSCR_1    2950724\n",
       "LEGAL_DSCR_2    2950408\n",
       "LEGAL_DSCR_3     471022\n",
       "LEGAL_DSCR_4     112524\n",
       "JURS            2950724\n",
       "Length: 71, dtype: int64"
      ]
     },
     "execution_count": 129,
     "metadata": {},
     "output_type": "execute_result"
    }
   ],
   "source": [
    "df_real_acct.count()"
   ]
  },
  {
   "cell_type": "markdown",
   "metadata": {},
   "source": [
    "## Filtering Account Data using the Accounts from the Land DF that have identified commercial real estate buildings"
   ]
  },
  {
   "cell_type": "code",
   "execution_count": 130,
   "metadata": {},
   "outputs": [
    {
     "data": {
      "text/plain": [
       "ACCOUNT         6852\n",
       "TAX_YEAR        6852\n",
       "MAILTO          6852\n",
       "MAIL_ADDR_1     6852\n",
       "MAIL_ADDR_2     6852\n",
       "                ... \n",
       "LEGAL_DSCR_1    6852\n",
       "LEGAL_DSCR_2    6848\n",
       "LEGAL_DSCR_3     922\n",
       "LEGAL_DSCR_4     218\n",
       "JURS            6852\n",
       "Length: 71, dtype: int64"
      ]
     },
     "execution_count": 130,
     "metadata": {},
     "output_type": "execute_result"
    }
   ],
   "source": [
    "df_real_acct = df_real_acct[df_real_acct['ACCOUNT'].astype(int).isin(df_land['ACCOUNT'].astype(int))]\n",
    "df_real_acct.count()"
   ]
  },
  {
   "cell_type": "markdown",
   "metadata": {},
   "source": [
    "#### Saving the raw data of commercial building data"
   ]
  },
  {
   "cell_type": "code",
   "execution_count": 131,
   "metadata": {},
   "outputs": [],
   "source": [
    "path = os.path.abspath('HotelOccupancyTaxData/RawCommercialBuildings.csv')\n",
    "df_real_acct.to_csv(path, index = False)"
   ]
  },
  {
   "cell_type": "markdown",
   "metadata": {},
   "source": [
    "#### Imports to connect to mysql database"
   ]
  },
  {
   "cell_type": "code",
   "execution_count": 132,
   "metadata": {},
   "outputs": [],
   "source": [
    "from sqlalchemy import create_engine, event, DateTime\n",
    "from db_setup import mysql_user, mysql_password, db_name\n",
    "import mysql.connector\n",
    "import datetime"
   ]
  },
  {
   "cell_type": "markdown",
   "metadata": {},
   "source": [
    "#### Building Engine"
   ]
  },
  {
   "cell_type": "code",
   "execution_count": 133,
   "metadata": {},
   "outputs": [],
   "source": [
    "connection_string = f\"{mysql_user}:{mysql_password}@localhost:3306/{db_name}?charset=utf8\"\n",
    "engine = create_engine(f'mysql://{connection_string}')"
   ]
  },
  {
   "cell_type": "markdown",
   "metadata": {},
   "source": [
    "#### Checking connectino by viewing the tables"
   ]
  },
  {
   "cell_type": "code",
   "execution_count": 134,
   "metadata": {},
   "outputs": [
    {
     "data": {
      "text/plain": [
       "['building_account',\n",
       " 'ccim',\n",
       " 'franchise_tax_info',\n",
       " 'franchise_tax_info_date',\n",
       " 'ftoffdir',\n",
       " 'sales_tax_info',\n",
       " 'sales_tax_info_date']"
      ]
     },
     "execution_count": 134,
     "metadata": {},
     "output_type": "execute_result"
    }
   ],
   "source": [
    "engine.table_names()"
   ]
  },
  {
   "cell_type": "markdown",
   "metadata": {},
   "source": [
    "#### Selecting the specified table building_account to drop the data to"
   ]
  },
  {
   "cell_type": "code",
   "execution_count": 135,
   "metadata": {},
   "outputs": [],
   "source": [
    "bld_acct_db = pdsql.read_sql(\"SELECT * FROM building_account\",engine)"
   ]
  },
  {
   "cell_type": "markdown",
   "metadata": {},
   "source": [
    "#### Filtering data that is within the database, if any"
   ]
  },
  {
   "cell_type": "code",
   "execution_count": 136,
   "metadata": {},
   "outputs": [
    {
     "name": "stdout",
     "output_type": "stream",
     "text": [
      "There are 0 data attributes in building_account table from the database\n",
      "6852 new companies, based on tax payer number from filtered data df_tact\n",
      "building_account to database append, completed\n"
     ]
    }
   ],
   "source": [
    "try:\n",
    "    df_real_acct = df_real_acct[~df_real_acct['ACCOUNT'].astype(int).isin(bld_acct_db['ACCOUNT'].astype(int))]\n",
    "    if df_real_acct.size != 0:\n",
    "        print(f\"There are {len(bld_acct_db)} data attributes in building_account table from the database\\n{len(df_real_acct)} new companies, based on tax payer number from filtered data df_tact\")\n",
    "        df_real_acct.to_sql(name='building_account', con=engine, if_exists='append', index=False, chunksize=1000)\n",
    "        print(f\"building_account to database append, completed\")\n",
    "        f = open('HotelOccupancyTaxData/formattedData/DBUploadRecord.txt','a+')\n",
    "        f.write(f'\\building_account.csv, {len(df_real_acct)}, building_account table, {len(bld_acct_db)}\\n')\n",
    "        f.close()\n",
    "    else:\n",
    "        print(\"No new data\")\n",
    "        f = open('HotelOccupancyTaxData/formattedData/DBUploadRecord.txt','a+')\n",
    "        f.write(f'building_account.csv, {len(df_real_acct)}, building_account table, {len(bld_acct_db)}\\n')\n",
    "        f.write('-------------------------------------------------------------\\n')\n",
    "        f.close()\n",
    "except Exception as e:\n",
    "    print(f\"Something went wrong, df_ftact was not able to append to database or no new data: {e}\")"
   ]
  },
  {
   "cell_type": "markdown",
   "metadata": {},
   "source": [
    "## Cleaning up Dataframe of Building Accounts and only using needed columns"
   ]
  },
  {
   "cell_type": "code",
   "execution_count": 141,
   "metadata": {},
   "outputs": [],
   "source": [
    "df_real_acct = df_real_acct[['ACCOUNT','TAX_YEAR','SITE_ADDR_1','SITE_ADDR_2','SITE_ADDR_3','MARKET_AREA_1_DSCR','ECON_BLD_CLASS','YR_IMPR','TOTAL_BUILDING_ARE']]"
   ]
  },
  {
   "cell_type": "markdown",
   "metadata": {},
   "source": [
    "#### Filtering data with no duplicates"
   ]
  },
  {
   "cell_type": "code",
   "execution_count": 139,
   "metadata": {},
   "outputs": [
    {
     "data": {
      "text/plain": [
       "ACCOUNT         3426\n",
       "TAX_YEAR        3426\n",
       "MAILTO          3426\n",
       "MAIL_ADDR_1     3426\n",
       "MAIL_ADDR_2     3426\n",
       "                ... \n",
       "LEGAL_DSCR_1    3426\n",
       "LEGAL_DSCR_2    3424\n",
       "LEGAL_DSCR_3     461\n",
       "LEGAL_DSCR_4     109\n",
       "JURS            3426\n",
       "Length: 71, dtype: int64"
      ]
     },
     "execution_count": 139,
     "metadata": {},
     "output_type": "execute_result"
    }
   ],
   "source": [
    "df_real_acct = df_real_acct.drop_duplicates(subset='ACCOUNT', keep='first')\n",
    "df_real_acct.count()"
   ]
  },
  {
   "cell_type": "markdown",
   "metadata": {},
   "source": [
    "#### Removing empty columns for zipcode and address"
   ]
  },
  {
   "cell_type": "code",
   "execution_count": 142,
   "metadata": {},
   "outputs": [
    {
     "data": {
      "text/html": [
       "<div>\n",
       "<style scoped>\n",
       "    .dataframe tbody tr th:only-of-type {\n",
       "        vertical-align: middle;\n",
       "    }\n",
       "\n",
       "    .dataframe tbody tr th {\n",
       "        vertical-align: top;\n",
       "    }\n",
       "\n",
       "    .dataframe thead th {\n",
       "        text-align: right;\n",
       "    }\n",
       "</style>\n",
       "<table border=\"1\" class=\"dataframe\">\n",
       "  <thead>\n",
       "    <tr style=\"text-align: right;\">\n",
       "      <th></th>\n",
       "      <th>ACCOUNT</th>\n",
       "      <th>TAX_YEAR</th>\n",
       "      <th>SITE_ADDR_1</th>\n",
       "      <th>SITE_ADDR_2</th>\n",
       "      <th>SITE_ADDR_3</th>\n",
       "      <th>MARKET_AREA_1_DSCR</th>\n",
       "      <th>ECON_BLD_CLASS</th>\n",
       "      <th>YR_IMPR</th>\n",
       "      <th>TOTAL_BUILDING_ARE</th>\n",
       "    </tr>\n",
       "  </thead>\n",
       "  <tbody>\n",
       "    <tr>\n",
       "      <th>30</th>\n",
       "      <td>10100000001</td>\n",
       "      <td>2019</td>\n",
       "      <td>1415 FRANKLIN ST</td>\n",
       "      <td>HOUSTON</td>\n",
       "      <td>77002</td>\n",
       "      <td>Central Business District</td>\n",
       "      <td>E</td>\n",
       "      <td>1985</td>\n",
       "      <td>4898</td>\n",
       "    </tr>\n",
       "    <tr>\n",
       "      <th>44</th>\n",
       "      <td>10150000001</td>\n",
       "      <td>2019</td>\n",
       "      <td>917 FRANKLIN ST</td>\n",
       "      <td>HOUSTON</td>\n",
       "      <td>77002</td>\n",
       "      <td>Central Business District</td>\n",
       "      <td>C</td>\n",
       "      <td>1870</td>\n",
       "      <td>54818</td>\n",
       "    </tr>\n",
       "    <tr>\n",
       "      <th>50</th>\n",
       "      <td>10160000007</td>\n",
       "      <td>2019</td>\n",
       "      <td>800 COMMERCE ST</td>\n",
       "      <td>HOUSTON</td>\n",
       "      <td>77002</td>\n",
       "      <td>Central Business District</td>\n",
       "      <td>C</td>\n",
       "      <td>1934</td>\n",
       "      <td>27304</td>\n",
       "    </tr>\n",
       "    <tr>\n",
       "      <th>76</th>\n",
       "      <td>10190000013</td>\n",
       "      <td>2019</td>\n",
       "      <td>808 FRANKLIN ST</td>\n",
       "      <td>HOUSTON</td>\n",
       "      <td>77002</td>\n",
       "      <td>Central Business District</td>\n",
       "      <td>E</td>\n",
       "      <td>1885</td>\n",
       "      <td>23910</td>\n",
       "    </tr>\n",
       "    <tr>\n",
       "      <th>87</th>\n",
       "      <td>10210000001</td>\n",
       "      <td>2019</td>\n",
       "      <td>1019 CONGRESS ST</td>\n",
       "      <td>HOUSTON</td>\n",
       "      <td>77002</td>\n",
       "      <td>Central Business District</td>\n",
       "      <td>E</td>\n",
       "      <td>1985</td>\n",
       "      <td>388513</td>\n",
       "    </tr>\n",
       "  </tbody>\n",
       "</table>\n",
       "</div>"
      ],
      "text/plain": [
       "        ACCOUNT  TAX_YEAR       SITE_ADDR_1 SITE_ADDR_2 SITE_ADDR_3  \\\n",
       "30  10100000001      2019  1415 FRANKLIN ST     HOUSTON       77002   \n",
       "44  10150000001      2019   917 FRANKLIN ST     HOUSTON       77002   \n",
       "50  10160000007      2019   800 COMMERCE ST     HOUSTON       77002   \n",
       "76  10190000013      2019   808 FRANKLIN ST     HOUSTON       77002   \n",
       "87  10210000001      2019  1019 CONGRESS ST     HOUSTON       77002   \n",
       "\n",
       "           MARKET_AREA_1_DSCR ECON_BLD_CLASS YR_IMPR  TOTAL_BUILDING_ARE  \n",
       "30  Central Business District          E        1985                4898  \n",
       "44  Central Business District          C        1870               54818  \n",
       "50  Central Business District          C        1934               27304  \n",
       "76  Central Business District          E        1885               23910  \n",
       "87  Central Business District          E        1985              388513  "
      ]
     },
     "execution_count": 142,
     "metadata": {},
     "output_type": "execute_result"
    }
   ],
   "source": [
    "df_real_acct.dropna(subset=['SITE_ADDR_1', 'SITE_ADDR_3'])\n",
    "df_real_acct.head()"
   ]
  },
  {
   "cell_type": "markdown",
   "metadata": {},
   "source": [
    "#### Check data that has been dropped"
   ]
  },
  {
   "cell_type": "code",
   "execution_count": 143,
   "metadata": {},
   "outputs": [
    {
     "data": {
      "text/plain": [
       "ACCOUNT               3426\n",
       "TAX_YEAR              3426\n",
       "SITE_ADDR_1           3426\n",
       "SITE_ADDR_2           3426\n",
       "SITE_ADDR_3           3426\n",
       "MARKET_AREA_1_DSCR    3426\n",
       "ECON_BLD_CLASS        3426\n",
       "YR_IMPR               3426\n",
       "TOTAL_BUILDING_ARE    3426\n",
       "dtype: int64"
      ]
     },
     "execution_count": 143,
     "metadata": {},
     "output_type": "execute_result"
    }
   ],
   "source": [
    "df_real_acct.count()"
   ]
  },
  {
   "cell_type": "markdown",
   "metadata": {},
   "source": [
    "#### Filter to only Houston location"
   ]
  },
  {
   "cell_type": "code",
   "execution_count": 146,
   "metadata": {},
   "outputs": [
    {
     "data": {
      "text/html": [
       "<div>\n",
       "<style scoped>\n",
       "    .dataframe tbody tr th:only-of-type {\n",
       "        vertical-align: middle;\n",
       "    }\n",
       "\n",
       "    .dataframe tbody tr th {\n",
       "        vertical-align: top;\n",
       "    }\n",
       "\n",
       "    .dataframe thead th {\n",
       "        text-align: right;\n",
       "    }\n",
       "</style>\n",
       "<table border=\"1\" class=\"dataframe\">\n",
       "  <thead>\n",
       "    <tr style=\"text-align: right;\">\n",
       "      <th></th>\n",
       "      <th>ACCOUNT</th>\n",
       "      <th>TAX_YEAR</th>\n",
       "      <th>SITE_ADDR_1</th>\n",
       "      <th>SITE_ADDR_2</th>\n",
       "      <th>SITE_ADDR_3</th>\n",
       "      <th>MARKET_AREA_1_DSCR</th>\n",
       "      <th>ECON_BLD_CLASS</th>\n",
       "      <th>YR_IMPR</th>\n",
       "      <th>TOTAL_BUILDING_ARE</th>\n",
       "    </tr>\n",
       "  </thead>\n",
       "  <tbody>\n",
       "    <tr>\n",
       "      <th>30</th>\n",
       "      <td>10100000001</td>\n",
       "      <td>2019</td>\n",
       "      <td>1415 FRANKLIN ST</td>\n",
       "      <td>HOUSTON</td>\n",
       "      <td>77002</td>\n",
       "      <td>Central Business District</td>\n",
       "      <td>E</td>\n",
       "      <td>1985</td>\n",
       "      <td>4898</td>\n",
       "    </tr>\n",
       "    <tr>\n",
       "      <th>44</th>\n",
       "      <td>10150000001</td>\n",
       "      <td>2019</td>\n",
       "      <td>917 FRANKLIN ST</td>\n",
       "      <td>HOUSTON</td>\n",
       "      <td>77002</td>\n",
       "      <td>Central Business District</td>\n",
       "      <td>C</td>\n",
       "      <td>1870</td>\n",
       "      <td>54818</td>\n",
       "    </tr>\n",
       "    <tr>\n",
       "      <th>50</th>\n",
       "      <td>10160000007</td>\n",
       "      <td>2019</td>\n",
       "      <td>800 COMMERCE ST</td>\n",
       "      <td>HOUSTON</td>\n",
       "      <td>77002</td>\n",
       "      <td>Central Business District</td>\n",
       "      <td>C</td>\n",
       "      <td>1934</td>\n",
       "      <td>27304</td>\n",
       "    </tr>\n",
       "    <tr>\n",
       "      <th>76</th>\n",
       "      <td>10190000013</td>\n",
       "      <td>2019</td>\n",
       "      <td>808 FRANKLIN ST</td>\n",
       "      <td>HOUSTON</td>\n",
       "      <td>77002</td>\n",
       "      <td>Central Business District</td>\n",
       "      <td>E</td>\n",
       "      <td>1885</td>\n",
       "      <td>23910</td>\n",
       "    </tr>\n",
       "    <tr>\n",
       "      <th>87</th>\n",
       "      <td>10210000001</td>\n",
       "      <td>2019</td>\n",
       "      <td>1019 CONGRESS ST</td>\n",
       "      <td>HOUSTON</td>\n",
       "      <td>77002</td>\n",
       "      <td>Central Business District</td>\n",
       "      <td>E</td>\n",
       "      <td>1985</td>\n",
       "      <td>388513</td>\n",
       "    </tr>\n",
       "  </tbody>\n",
       "</table>\n",
       "</div>"
      ],
      "text/plain": [
       "        ACCOUNT  TAX_YEAR       SITE_ADDR_1 SITE_ADDR_2 SITE_ADDR_3  \\\n",
       "30  10100000001      2019  1415 FRANKLIN ST     HOUSTON       77002   \n",
       "44  10150000001      2019   917 FRANKLIN ST     HOUSTON       77002   \n",
       "50  10160000007      2019   800 COMMERCE ST     HOUSTON       77002   \n",
       "76  10190000013      2019   808 FRANKLIN ST     HOUSTON       77002   \n",
       "87  10210000001      2019  1019 CONGRESS ST     HOUSTON       77002   \n",
       "\n",
       "           MARKET_AREA_1_DSCR ECON_BLD_CLASS YR_IMPR  TOTAL_BUILDING_ARE  \n",
       "30  Central Business District          E        1985                4898  \n",
       "44  Central Business District          C        1870               54818  \n",
       "50  Central Business District          C        1934               27304  \n",
       "76  Central Business District          E        1885               23910  \n",
       "87  Central Business District          E        1985              388513  "
      ]
     },
     "execution_count": 146,
     "metadata": {},
     "output_type": "execute_result"
    }
   ],
   "source": [
    "df_real_acct= df_real_acct[df_real_acct['SITE_ADDR_2']=='HOUSTON']\n",
    "df_real_acct.head()"
   ]
  },
  {
   "cell_type": "markdown",
   "metadata": {},
   "source": [
    "#### Save to csv file"
   ]
  },
  {
   "cell_type": "code",
   "execution_count": 147,
   "metadata": {},
   "outputs": [],
   "source": [
    "path = os.path.abspath('HotelOccupancyTaxData/CommercialBuildings.csv')\n",
    "df_real_acct.to_csv(path, index = False)"
   ]
  },
  {
   "cell_type": "code",
   "execution_count": null,
   "metadata": {},
   "outputs": [],
   "source": []
  }
 ],
 "metadata": {
  "kernelspec": {
   "display_name": "myenv",
   "language": "python",
   "name": "myenv"
  },
  "language_info": {
   "codemirror_mode": {
    "name": "ipython",
    "version": 3
   },
   "file_extension": ".py",
   "mimetype": "text/x-python",
   "name": "python",
   "nbconvert_exporter": "python",
   "pygments_lexer": "ipython3",
   "version": "3.7.4"
  }
 },
 "nbformat": 4,
 "nbformat_minor": 4
}
