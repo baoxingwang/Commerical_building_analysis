{
 "cells": [
  {
   "cell_type": "code",
   "execution_count": 53,
   "metadata": {},
   "outputs": [],
   "source": [
    "#importing libraries\n",
    "import os\n",
    "import pandas as pd"
   ]
  },
  {
   "cell_type": "code",
   "execution_count": 54,
   "metadata": {},
   "outputs": [],
   "source": [
    "# paths from my local folder which has latest csv\n",
    "\n",
    "path1 = os.path.join(\"data\",\"HOUFTACT.csv\") # historic data\n",
    "path2 = os.path.join(\"data\",\"HoustonData\",\"HOUfran.csv\") # 2019,2020 data"
   ]
  },
  {
   "cell_type": "code",
   "execution_count": 55,
   "metadata": {},
   "outputs": [],
   "source": [
    "df_ftact = pd.read_csv(path1) \n",
    "df_fran = pd.read_csv(path2)"
   ]
  },
  {
   "cell_type": "code",
   "execution_count": 56,
   "metadata": {},
   "outputs": [
    {
     "data": {
      "text/html": [
       "<div>\n",
       "<style scoped>\n",
       "    .dataframe tbody tr th:only-of-type {\n",
       "        vertical-align: middle;\n",
       "    }\n",
       "\n",
       "    .dataframe tbody tr th {\n",
       "        vertical-align: top;\n",
       "    }\n",
       "\n",
       "    .dataframe thead th {\n",
       "        text-align: right;\n",
       "    }\n",
       "</style>\n",
       "<table border=\"1\" class=\"dataframe\">\n",
       "  <thead>\n",
       "    <tr style=\"text-align: right;\">\n",
       "      <th></th>\n",
       "      <th>Taxpayer_Number</th>\n",
       "      <th>Taxpayer_Name</th>\n",
       "      <th>Taxpayer_Address</th>\n",
       "      <th>Taxpayer_City</th>\n",
       "      <th>Taxpayer_State</th>\n",
       "      <th>Taxpayer_Zip_Code</th>\n",
       "      <th>Taxpayer_Organizational_Type</th>\n",
       "      <th>Taxpayer_Organizational_Name</th>\n",
       "      <th>Record_Type_Code</th>\n",
       "      <th>Record_Type_Name</th>\n",
       "      <th>SOS_Charter_Date</th>\n",
       "      <th>SOS_Status_Date</th>\n",
       "      <th>Responsibility_Beginning_Date</th>\n",
       "      <th>DateTime</th>\n",
       "    </tr>\n",
       "  </thead>\n",
       "  <tbody>\n",
       "    <tr>\n",
       "      <td>7907</td>\n",
       "      <td>32073711270</td>\n",
       "      <td>SANCHEZ EXPLORATION COMPANY LLC</td>\n",
       "      <td>1000 MAIN ST STE 3000</td>\n",
       "      <td>HOUSTON</td>\n",
       "      <td>TX</td>\n",
       "      <td>77002</td>\n",
       "      <td>CL</td>\n",
       "      <td>Limited Liability Company - Texas</td>\n",
       "      <td>U</td>\n",
       "      <td>Secretary of State (SOS) File Number</td>\n",
       "      <td>3/11/2020 0:00</td>\n",
       "      <td>3/11/2020 0:00</td>\n",
       "      <td>3/11/2020 0:00</td>\n",
       "      <td>3/25/2020 2:13</td>\n",
       "    </tr>\n",
       "    <tr>\n",
       "      <td>9447</td>\n",
       "      <td>32072485017</td>\n",
       "      <td>3122 MOLLY, LLC</td>\n",
       "      <td>440 LOUISIANA ST STE 952</td>\n",
       "      <td>HOUSTON</td>\n",
       "      <td>TX</td>\n",
       "      <td>77002</td>\n",
       "      <td>CL</td>\n",
       "      <td>Limited Liability Company - Texas</td>\n",
       "      <td>U</td>\n",
       "      <td>Secretary of State (SOS) File Number</td>\n",
       "      <td>11/6/2019 0:00</td>\n",
       "      <td>11/6/2019 0:00</td>\n",
       "      <td>11/6/2019 0:00</td>\n",
       "      <td>3/25/2020 2:13</td>\n",
       "    </tr>\n",
       "    <tr>\n",
       "      <td>9452</td>\n",
       "      <td>32072485496</td>\n",
       "      <td>NOVI MOTUS, LLC</td>\n",
       "      <td>440 LOUISIANA ST STE 952</td>\n",
       "      <td>HOUSTON</td>\n",
       "      <td>TX</td>\n",
       "      <td>77002</td>\n",
       "      <td>CL</td>\n",
       "      <td>Limited Liability Company - Texas</td>\n",
       "      <td>U</td>\n",
       "      <td>Secretary of State (SOS) File Number</td>\n",
       "      <td>11/6/2019 0:00</td>\n",
       "      <td>11/6/2019 0:00</td>\n",
       "      <td>11/6/2019 0:00</td>\n",
       "      <td>3/25/2020 2:13</td>\n",
       "    </tr>\n",
       "    <tr>\n",
       "      <td>1188</td>\n",
       "      <td>32072930954</td>\n",
       "      <td>5964-BGL, LLC</td>\n",
       "      <td>440 LOUISIANA ST STE 952</td>\n",
       "      <td>HOUSTON</td>\n",
       "      <td>TX</td>\n",
       "      <td>77002</td>\n",
       "      <td>CL</td>\n",
       "      <td>Limited Liability Company - Texas</td>\n",
       "      <td>U</td>\n",
       "      <td>Secretary of State (SOS) File Number</td>\n",
       "      <td>12/30/2019 0:00</td>\n",
       "      <td>12/30/2019 0:00</td>\n",
       "      <td>12/30/2019 0:00</td>\n",
       "      <td>3/25/2020 2:13</td>\n",
       "    </tr>\n",
       "    <tr>\n",
       "      <td>9456</td>\n",
       "      <td>32072485819</td>\n",
       "      <td>VNW 01, LLC</td>\n",
       "      <td>440 LOUISIANA ST STE 952</td>\n",
       "      <td>HOUSTON</td>\n",
       "      <td>TX</td>\n",
       "      <td>77002</td>\n",
       "      <td>CL</td>\n",
       "      <td>Limited Liability Company - Texas</td>\n",
       "      <td>U</td>\n",
       "      <td>Secretary of State (SOS) File Number</td>\n",
       "      <td>11/6/2019 0:00</td>\n",
       "      <td>11/6/2019 0:00</td>\n",
       "      <td>11/6/2019 0:00</td>\n",
       "      <td>3/25/2020 2:13</td>\n",
       "    </tr>\n",
       "    <tr>\n",
       "      <td>...</td>\n",
       "      <td>...</td>\n",
       "      <td>...</td>\n",
       "      <td>...</td>\n",
       "      <td>...</td>\n",
       "      <td>...</td>\n",
       "      <td>...</td>\n",
       "      <td>...</td>\n",
       "      <td>...</td>\n",
       "      <td>...</td>\n",
       "      <td>...</td>\n",
       "      <td>...</td>\n",
       "      <td>...</td>\n",
       "      <td>...</td>\n",
       "      <td>...</td>\n",
       "    </tr>\n",
       "    <tr>\n",
       "      <td>5672</td>\n",
       "      <td>32073460217</td>\n",
       "      <td>JEM'S I.T. GUY, LLC</td>\n",
       "      <td>14917 EL CAMINO REAL UNIT 890813</td>\n",
       "      <td>HOUSTON</td>\n",
       "      <td>TX</td>\n",
       "      <td>77289</td>\n",
       "      <td>CL</td>\n",
       "      <td>Limited Liability Company - Texas</td>\n",
       "      <td>U</td>\n",
       "      <td>Secretary of State (SOS) File Number</td>\n",
       "      <td>2/18/2020 0:00</td>\n",
       "      <td>2/18/2020 0:00</td>\n",
       "      <td>2/18/2020 0:00</td>\n",
       "      <td>3/25/2020 2:13</td>\n",
       "    </tr>\n",
       "    <tr>\n",
       "      <td>3035</td>\n",
       "      <td>32073149760</td>\n",
       "      <td>MELFRIS DOMINICAN BEAUTY SALON LLC</td>\n",
       "      <td>5910 FM 1960 RD STE E</td>\n",
       "      <td>HOUSTON</td>\n",
       "      <td>TX</td>\n",
       "      <td>77346</td>\n",
       "      <td>CL</td>\n",
       "      <td>Limited Liability Company - Texas</td>\n",
       "      <td>U</td>\n",
       "      <td>Secretary of State (SOS) File Number</td>\n",
       "      <td>1/21/2020 0:00</td>\n",
       "      <td>1/21/2020 0:00</td>\n",
       "      <td>1/21/2020 0:00</td>\n",
       "      <td>3/25/2020 2:13</td>\n",
       "    </tr>\n",
       "    <tr>\n",
       "      <td>3140</td>\n",
       "      <td>32073163886</td>\n",
       "      <td>ROMAN CARRIER LLC</td>\n",
       "      <td>22218 SPRING GATE DR</td>\n",
       "      <td>HOUSTON</td>\n",
       "      <td>TX</td>\n",
       "      <td>77373</td>\n",
       "      <td>CL</td>\n",
       "      <td>Limited Liability Company - Texas</td>\n",
       "      <td>U</td>\n",
       "      <td>Secretary of State (SOS) File Number</td>\n",
       "      <td>1/22/2020 0:00</td>\n",
       "      <td>1/22/2020 0:00</td>\n",
       "      <td>1/22/2020 0:00</td>\n",
       "      <td>3/25/2020 2:13</td>\n",
       "    </tr>\n",
       "    <tr>\n",
       "      <td>8245</td>\n",
       "      <td>32073754643</td>\n",
       "      <td>CLARKSON STAFFING GROUP INC. LLC.</td>\n",
       "      <td>18927 BAKER VILLAGE LANE</td>\n",
       "      <td>HOUSTON</td>\n",
       "      <td>TX</td>\n",
       "      <td>77440</td>\n",
       "      <td>CL</td>\n",
       "      <td>Limited Liability Company - Texas</td>\n",
       "      <td>U</td>\n",
       "      <td>Secretary of State (SOS) File Number</td>\n",
       "      <td>3/20/2020 0:00</td>\n",
       "      <td>3/20/2020 0:00</td>\n",
       "      <td>3/20/2020 0:00</td>\n",
       "      <td>3/25/2020 2:13</td>\n",
       "    </tr>\n",
       "    <tr>\n",
       "      <td>8880</td>\n",
       "      <td>32072418059</td>\n",
       "      <td>LIMITLESS LIMO TRANSPORTATION LLC</td>\n",
       "      <td>1795 NFRY RD # 316</td>\n",
       "      <td>HOUSTON</td>\n",
       "      <td>TX</td>\n",
       "      <td>77449</td>\n",
       "      <td>CL</td>\n",
       "      <td>Limited Liability Company - Texas</td>\n",
       "      <td>U</td>\n",
       "      <td>Secretary of State (SOS) File Number</td>\n",
       "      <td>10/30/2019 0:00</td>\n",
       "      <td>10/30/2019 0:00</td>\n",
       "      <td>10/30/2019 0:00</td>\n",
       "      <td>3/25/2020 2:13</td>\n",
       "    </tr>\n",
       "  </tbody>\n",
       "</table>\n",
       "<p>12944 rows × 14 columns</p>\n",
       "</div>"
      ],
      "text/plain": [
       "      Taxpayer_Number                       Taxpayer_Name  \\\n",
       "7907      32073711270     SANCHEZ EXPLORATION COMPANY LLC   \n",
       "9447      32072485017                     3122 MOLLY, LLC   \n",
       "9452      32072485496                     NOVI MOTUS, LLC   \n",
       "1188      32072930954                       5964-BGL, LLC   \n",
       "9456      32072485819                         VNW 01, LLC   \n",
       "...               ...                                 ...   \n",
       "5672      32073460217                 JEM'S I.T. GUY, LLC   \n",
       "3035      32073149760  MELFRIS DOMINICAN BEAUTY SALON LLC   \n",
       "3140      32073163886                   ROMAN CARRIER LLC   \n",
       "8245      32073754643   CLARKSON STAFFING GROUP INC. LLC.   \n",
       "8880      32072418059   LIMITLESS LIMO TRANSPORTATION LLC   \n",
       "\n",
       "                      Taxpayer_Address Taxpayer_City Taxpayer_State  \\\n",
       "7907             1000 MAIN ST STE 3000       HOUSTON             TX   \n",
       "9447          440 LOUISIANA ST STE 952       HOUSTON             TX   \n",
       "9452          440 LOUISIANA ST STE 952       HOUSTON             TX   \n",
       "1188          440 LOUISIANA ST STE 952       HOUSTON             TX   \n",
       "9456          440 LOUISIANA ST STE 952       HOUSTON             TX   \n",
       "...                                ...           ...            ...   \n",
       "5672  14917 EL CAMINO REAL UNIT 890813       HOUSTON             TX   \n",
       "3035             5910 FM 1960 RD STE E       HOUSTON             TX   \n",
       "3140              22218 SPRING GATE DR       HOUSTON             TX   \n",
       "8245          18927 BAKER VILLAGE LANE       HOUSTON             TX   \n",
       "8880                1795 NFRY RD # 316       HOUSTON             TX   \n",
       "\n",
       "      Taxpayer_Zip_Code Taxpayer_Organizational_Type  \\\n",
       "7907              77002                           CL   \n",
       "9447              77002                           CL   \n",
       "9452              77002                           CL   \n",
       "1188              77002                           CL   \n",
       "9456              77002                           CL   \n",
       "...                 ...                          ...   \n",
       "5672              77289                           CL   \n",
       "3035              77346                           CL   \n",
       "3140              77373                           CL   \n",
       "8245              77440                           CL   \n",
       "8880              77449                           CL   \n",
       "\n",
       "           Taxpayer_Organizational_Name Record_Type_Code  \\\n",
       "7907  Limited Liability Company - Texas                U   \n",
       "9447  Limited Liability Company - Texas                U   \n",
       "9452  Limited Liability Company - Texas                U   \n",
       "1188  Limited Liability Company - Texas                U   \n",
       "9456  Limited Liability Company - Texas                U   \n",
       "...                                 ...              ...   \n",
       "5672  Limited Liability Company - Texas                U   \n",
       "3035  Limited Liability Company - Texas                U   \n",
       "3140  Limited Liability Company - Texas                U   \n",
       "8245  Limited Liability Company - Texas                U   \n",
       "8880  Limited Liability Company - Texas                U   \n",
       "\n",
       "                          Record_Type_Name SOS_Charter_Date  SOS_Status_Date  \\\n",
       "7907  Secretary of State (SOS) File Number   3/11/2020 0:00   3/11/2020 0:00   \n",
       "9447  Secretary of State (SOS) File Number   11/6/2019 0:00   11/6/2019 0:00   \n",
       "9452  Secretary of State (SOS) File Number   11/6/2019 0:00   11/6/2019 0:00   \n",
       "1188  Secretary of State (SOS) File Number  12/30/2019 0:00  12/30/2019 0:00   \n",
       "9456  Secretary of State (SOS) File Number   11/6/2019 0:00   11/6/2019 0:00   \n",
       "...                                    ...              ...              ...   \n",
       "5672  Secretary of State (SOS) File Number   2/18/2020 0:00   2/18/2020 0:00   \n",
       "3035  Secretary of State (SOS) File Number   1/21/2020 0:00   1/21/2020 0:00   \n",
       "3140  Secretary of State (SOS) File Number   1/22/2020 0:00   1/22/2020 0:00   \n",
       "8245  Secretary of State (SOS) File Number   3/20/2020 0:00   3/20/2020 0:00   \n",
       "8880  Secretary of State (SOS) File Number  10/30/2019 0:00  10/30/2019 0:00   \n",
       "\n",
       "     Responsibility_Beginning_Date        DateTime  \n",
       "7907                3/11/2020 0:00  3/25/2020 2:13  \n",
       "9447                11/6/2019 0:00  3/25/2020 2:13  \n",
       "9452                11/6/2019 0:00  3/25/2020 2:13  \n",
       "1188               12/30/2019 0:00  3/25/2020 2:13  \n",
       "9456                11/6/2019 0:00  3/25/2020 2:13  \n",
       "...                            ...             ...  \n",
       "5672                2/18/2020 0:00  3/25/2020 2:13  \n",
       "3035                1/21/2020 0:00  3/25/2020 2:13  \n",
       "3140                1/22/2020 0:00  3/25/2020 2:13  \n",
       "8245                3/20/2020 0:00  3/25/2020 2:13  \n",
       "8880               10/30/2019 0:00  3/25/2020 2:13  \n",
       "\n",
       "[12944 rows x 14 columns]"
      ]
     },
     "execution_count": 56,
     "metadata": {},
     "output_type": "execute_result"
    }
   ],
   "source": [
    "df_fran_sorted = df_fran.sort_values(by ='Taxpayer_Zip_Code')\n",
    "df_fran_sorted"
   ]
  },
  {
   "cell_type": "code",
   "execution_count": 57,
   "metadata": {},
   "outputs": [],
   "source": [
    "# replacing na values in 'SOS_Charter_Date' with 'No Date yet' \n",
    "df_fran_sorted['SOS_Charter_Date'].fillna(\"No Date yet\", inplace = True) \n",
    "df_fran_sorted['SOS_Status_Date'].fillna(\"No Date yet\", inplace = True) "
   ]
  },
  {
   "cell_type": "code",
   "execution_count": 58,
   "metadata": {},
   "outputs": [],
   "source": [
    "# replacing na values in organisation name with \"Unknown\" \n",
    "\n",
    "df_fran_sorted['Taxpayer_Organizational_Name'].fillna(\"Unknown\",inplace=True)"
   ]
  },
  {
   "cell_type": "code",
   "execution_count": 59,
   "metadata": {},
   "outputs": [],
   "source": [
    "df_fran_sorted.to_csv(\"df_fran_sorted_by_zip.csv\",index=False)"
   ]
  },
  {
   "cell_type": "code",
   "execution_count": 78,
   "metadata": {},
   "outputs": [
    {
     "data": {
      "text/plain": [
       "116"
      ]
     },
     "execution_count": 78,
     "metadata": {},
     "output_type": "execute_result"
    }
   ],
   "source": [
    "df_fran_sorted['Taxpayer_Zip_Code'].nunique()"
   ]
  },
  {
   "cell_type": "code",
   "execution_count": 60,
   "metadata": {},
   "outputs": [
    {
     "data": {
      "text/plain": [
       "(249217, 20)"
      ]
     },
     "execution_count": 60,
     "metadata": {},
     "output_type": "execute_result"
    }
   ],
   "source": [
    "df_ftact.shape"
   ]
  },
  {
   "cell_type": "code",
   "execution_count": 61,
   "metadata": {},
   "outputs": [
    {
     "data": {
      "text/plain": [
       "204"
      ]
     },
     "execution_count": 61,
     "metadata": {},
     "output_type": "execute_result"
    }
   ],
   "source": [
    "df_ftact['Taxpayer_Zip_Code'].nunique()"
   ]
  },
  {
   "cell_type": "code",
   "execution_count": 62,
   "metadata": {},
   "outputs": [
    {
     "data": {
      "text/plain": [
       "(12944, 14)"
      ]
     },
     "execution_count": 62,
     "metadata": {},
     "output_type": "execute_result"
    }
   ],
   "source": [
    "df_fran.shape"
   ]
  },
  {
   "cell_type": "code",
   "execution_count": 63,
   "metadata": {},
   "outputs": [
    {
     "data": {
      "text/plain": [
       "Index(['Taxpayer_Number', 'Taxpayer_Name', 'Taxpayer_Address', 'Taxpayer_City',\n",
       "       'Taxpayer_State', 'Taxpayer_Zip_Code', 'Taxpayer_Organizational_Type',\n",
       "       'Taxpayer_Organizational_Name', 'Record_Type_Code', 'Record_Type_Name',\n",
       "       'Responsibility_Beginning_Date', 'Responsibility_End_Reason_Code',\n",
       "       'Responsibility_End_Reason_Name', 'SOS_Charter_Date', 'SOS_Status_Date',\n",
       "       'SOS_Status_Code', 'SOS_Status_Name', 'Rigth_to_Tansact_Business_Code',\n",
       "       'Rigth_to_Tansact_Business_Name', 'DateTime'],\n",
       "      dtype='object')"
      ]
     },
     "execution_count": 63,
     "metadata": {},
     "output_type": "execute_result"
    }
   ],
   "source": [
    "df_ftact.columns"
   ]
  },
  {
   "cell_type": "code",
   "execution_count": 64,
   "metadata": {},
   "outputs": [],
   "source": [
    "# Replacing nan Status and charter dates with \"No date yet\"\n",
    "\n",
    "df_ftact['SOS_Charter_Date'].fillna(\"No Date\", inplace = True) \n",
    "df_ftact['SOS_Status_Date'].fillna(\"No Date\", inplace = True) "
   ]
  },
  {
   "cell_type": "code",
   "execution_count": 65,
   "metadata": {},
   "outputs": [],
   "source": [
    "# Replacing nan Status and charter codes with \"unknown\"\n",
    "df_ftact['SOS_Status_Code'].fillna(\"StatusCode-Unknown\", inplace = True)\n",
    "df_ftact['SOS_Status_Name'].fillna(\"Status-Unknown\", inplace = True)"
   ]
  },
  {
   "cell_type": "code",
   "execution_count": 66,
   "metadata": {},
   "outputs": [],
   "source": [
    "df_ftact_sorted = df_ftact.sort_values(by ='Taxpayer_Zip_Code')"
   ]
  },
  {
   "cell_type": "code",
   "execution_count": 67,
   "metadata": {},
   "outputs": [],
   "source": [
    "df_ftact_sorted.to_csv(\"Historical_data.csv\",index=False)"
   ]
  },
  {
   "cell_type": "code",
   "execution_count": 68,
   "metadata": {},
   "outputs": [],
   "source": [
    "df_ftact_reduced = df_ftact_sorted.drop(columns=['Responsibility_End_Reason_Code','Responsibility_End_Reason_Name','SOS_Status_Code','SOS_Status_Name','Rigth_to_Tansact_Business_Code','Rigth_to_Tansact_Business_Name'])"
   ]
  },
  {
   "cell_type": "code",
   "execution_count": 69,
   "metadata": {},
   "outputs": [
    {
     "data": {
      "text/plain": [
       "(249217, 14)"
      ]
     },
     "execution_count": 69,
     "metadata": {},
     "output_type": "execute_result"
    }
   ],
   "source": [
    "df_ftact_reduced.shape"
   ]
  },
  {
   "cell_type": "code",
   "execution_count": 70,
   "metadata": {},
   "outputs": [],
   "source": [
    "df_ftact_reduced = df_ftact_reduced[['Taxpayer_Number', 'Taxpayer_Name', 'Taxpayer_Address', 'Taxpayer_City',\n",
    "       'Taxpayer_State', 'Taxpayer_Zip_Code', 'Taxpayer_Organizational_Type',\n",
    "       'Taxpayer_Organizational_Name', 'Record_Type_Code', 'Record_Type_Name',\n",
    "       'SOS_Charter_Date', 'SOS_Status_Date', 'Responsibility_Beginning_Date',\n",
    "       'DateTime']]"
   ]
  },
  {
   "cell_type": "code",
   "execution_count": 71,
   "metadata": {},
   "outputs": [
    {
     "data": {
      "text/plain": [
       "Index(['Taxpayer_Number', 'Taxpayer_Name', 'Taxpayer_Address', 'Taxpayer_City',\n",
       "       'Taxpayer_State', 'Taxpayer_Zip_Code', 'Taxpayer_Organizational_Type',\n",
       "       'Taxpayer_Organizational_Name', 'Record_Type_Code', 'Record_Type_Name',\n",
       "       'SOS_Charter_Date', 'SOS_Status_Date', 'Responsibility_Beginning_Date',\n",
       "       'DateTime'],\n",
       "      dtype='object')"
      ]
     },
     "execution_count": 71,
     "metadata": {},
     "output_type": "execute_result"
    }
   ],
   "source": [
    "df_ftact_reduced.columns"
   ]
  },
  {
   "cell_type": "code",
   "execution_count": 72,
   "metadata": {},
   "outputs": [
    {
     "data": {
      "text/plain": [
       "Index(['Taxpayer_Number', 'Taxpayer_Name', 'Taxpayer_Address', 'Taxpayer_City',\n",
       "       'Taxpayer_State', 'Taxpayer_Zip_Code', 'Taxpayer_Organizational_Type',\n",
       "       'Taxpayer_Organizational_Name', 'Record_Type_Code', 'Record_Type_Name',\n",
       "       'SOS_Charter_Date', 'SOS_Status_Date', 'Responsibility_Beginning_Date',\n",
       "       'DateTime'],\n",
       "      dtype='object')"
      ]
     },
     "execution_count": 72,
     "metadata": {},
     "output_type": "execute_result"
    }
   ],
   "source": [
    "df_fran_sorted.columns"
   ]
  },
  {
   "cell_type": "code",
   "execution_count": 73,
   "metadata": {},
   "outputs": [
    {
     "data": {
      "text/plain": [
       "(262161, 14)"
      ]
     },
     "execution_count": 73,
     "metadata": {},
     "output_type": "execute_result"
    }
   ],
   "source": [
    "all_data = pd.concat([df_ftact_reduced,df_fran_sorted],ignore_index=True)\n",
    "all_data.shape"
   ]
  },
  {
   "cell_type": "code",
   "execution_count": 74,
   "metadata": {},
   "outputs": [
    {
     "data": {
      "text/plain": [
       "Index(['Taxpayer_Number', 'Taxpayer_Name', 'Taxpayer_Address', 'Taxpayer_City',\n",
       "       'Taxpayer_State', 'Taxpayer_Zip_Code', 'Taxpayer_Organizational_Type',\n",
       "       'Taxpayer_Organizational_Name', 'Record_Type_Code', 'Record_Type_Name',\n",
       "       'SOS_Charter_Date', 'SOS_Status_Date', 'Responsibility_Beginning_Date',\n",
       "       'DateTime'],\n",
       "      dtype='object')"
      ]
     },
     "execution_count": 74,
     "metadata": {},
     "output_type": "execute_result"
    }
   ],
   "source": [
    "all_data.columns"
   ]
  },
  {
   "cell_type": "code",
   "execution_count": 75,
   "metadata": {},
   "outputs": [],
   "source": [
    "all_data.to_csv(\"Houston_all_data.csv\",index=False)"
   ]
  },
  {
   "cell_type": "code",
   "execution_count": 76,
   "metadata": {},
   "outputs": [
    {
     "data": {
      "text/plain": [
       "171"
      ]
     },
     "execution_count": 76,
     "metadata": {},
     "output_type": "execute_result"
    }
   ],
   "source": [
    "df_fran['Responsibility_Beginning_Date'].nunique()"
   ]
  },
  {
   "cell_type": "code",
   "execution_count": 77,
   "metadata": {},
   "outputs": [
    {
     "data": {
      "text/plain": [
       "11448"
      ]
     },
     "execution_count": 77,
     "metadata": {},
     "output_type": "execute_result"
    }
   ],
   "source": [
    "all_data['Responsibility_Beginning_Date'].nunique()"
   ]
  },
  {
   "cell_type": "code",
   "execution_count": 162,
   "metadata": {},
   "outputs": [],
   "source": []
  },
  {
   "cell_type": "code",
   "execution_count": null,
   "metadata": {},
   "outputs": [],
   "source": []
  }
 ],
 "metadata": {
  "kernelspec": {
   "display_name": "Python 3",
   "language": "python",
   "name": "python3"
  },
  "language_info": {
   "codemirror_mode": {
    "name": "ipython",
    "version": 3
   },
   "file_extension": ".py",
   "mimetype": "text/x-python",
   "name": "python",
   "nbconvert_exporter": "python",
   "pygments_lexer": "ipython3",
   "version": "3.7.3"
  }
 },
 "nbformat": 4,
 "nbformat_minor": 2
}
